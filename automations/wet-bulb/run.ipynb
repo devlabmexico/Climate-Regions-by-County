{
 "cells": [
  {
   "cell_type": "code",
   "execution_count": null,
   "id": "299e317a-f23a-432a-8738-369c0ee6fed5",
   "metadata": {
    "tags": []
   },
   "outputs": [],
   "source": [
    "from datetime import datetime\n",
    "from os import environ\n",
    "from os.path import join\n",
    "\n",
    "import requests\n",
    "import json\n",
    "\n",
    "input_folder = environ.get(\n",
    "    'CROSSCOMPUTE_INPUT_FOLDER', 'batches/standard/input')\n",
    "output_folder = environ.get(\n",
    "    'CROSSCOMPUTE_OUTPUT_FOLDER', 'batches/standard/output')\n",
    "\n",
    "input_path = join(input_folder, 'variables.dictionary')\n",
    "output_path = join(output_folder, 'variables.dictionary')\n",
    "\n",
    "value_by_key = json.load(open(input_path, 'rt'))"
   ]
  },
  {
   "cell_type": "code",
   "execution_count": null,
   "id": "5d8ef5bc-d05c-4b93-9f0c-ecf23afa035f",
   "metadata": {
    "tags": []
   },
   "outputs": [],
   "source": [
    "PARAMETERS = {\n",
    "  \"temperature\": value_by_key[\"temperature\"],\n",
    "  \"relative_humidity\": value_by_key[\"relative_humidity\"],\n",
    "}"
   ]
  },
  {
   "cell_type": "code",
   "execution_count": null,
   "id": "a2b0872f-d146-4969-b062-0d48e6fe224b",
   "metadata": {
    "tags": []
   },
   "outputs": [],
   "source": [
    "import numpy as np\n",
    "\n",
    "rh = PARAMETERS[\"relative_humidity\"]\n",
    "T = PARAMETERS[\"temperature\"]\n",
    "\n",
    "\n",
    "def temperature_2_wet_bulb(T, rw):\n",
    "    arctan = np.arctan\n",
    "    sqrt = np.sqrt\n",
    "    power = np.power\n",
    "    \n",
    "    Tw = T * arctan(0.152 * sqrt(rh + 8.3136)) + arctan(T + rh) - arctan(rh - 1.6763) + 0.00391838 * sqrt(power(rh, 3)) * arctan(0.0231 * rh) - 4.686\n",
    "    \n",
    "    return Tw\n",
    "\n",
    "Tw = temperature_2_wet_bulb(T, rh)\n",
    "T, rh, Tw"
   ]
  },
  {
   "cell_type": "code",
   "execution_count": null,
   "id": "c12dd774-9045-4587-84b5-eaa83c9dbf5d",
   "metadata": {
    "tags": []
   },
   "outputs": [],
   "source": [
    "value_by_key = {\n",
    "  \"wet_bulb\": Tw\n",
    "}\n",
    "\n",
    "json.dump(value_by_key, open(output_path, 'wt'), indent=4)\n",
    "value_by_key"
   ]
  }
 ],
 "metadata": {
  "kernelspec": {
   "display_name": "Python 3 (ipykernel)",
   "language": "python",
   "name": "python3"
  },
  "language_info": {
   "codemirror_mode": {
    "name": "ipython",
    "version": 3
   },
   "file_extension": ".py",
   "mimetype": "text/x-python",
   "name": "python",
   "nbconvert_exporter": "python",
   "pygments_lexer": "ipython3",
   "version": "3.10.8"
  },
  "toc-showcode": false,
  "toc-showmarkdowntxt": false
 },
 "nbformat": 4,
 "nbformat_minor": 5
}
