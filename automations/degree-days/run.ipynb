{
 "cells": [
  {
   "cell_type": "code",
   "execution_count": null,
   "id": "9f95af34-e572-413c-af27-5167daf50445",
   "metadata": {
    "tags": []
   },
   "outputs": [],
   "source": [
    "from datetime import datetime\n",
    "from os import environ\n",
    "from os.path import join\n",
    "\n",
    "import requests\n",
    "import json\n",
    "\n",
    "input_folder = environ.get(\n",
    "    'CROSSCOMPUTE_INPUT_FOLDER', 'batches/standard/input')\n",
    "output_folder = environ.get(\n",
    "    'CROSSCOMPUTE_OUTPUT_FOLDER', 'batches/standard/output')\n",
    "\n",
    "input_path = join(input_folder, 'variables.dictionary')\n",
    "output_path = join(output_folder, 'variables.dictionary')\n",
    "chart_output_path = join(output_folder, 'cost_chart.png')\n",
    "\n",
    "value_by_key = json.load(open(input_path, 'rt'))"
   ]
  },
  {
   "cell_type": "code",
   "execution_count": null,
   "id": "c15976be-e659-4dc0-915c-1739aed26242",
   "metadata": {
    "tags": []
   },
   "outputs": [],
   "source": [
    "def limit_value(value, left_limit, right_limit):\n",
    "    if value < left_limit:\n",
    "        return left_limit\n",
    "    if value > right_limit:\n",
    "        return right_limit\n",
    "    return value"
   ]
  },
  {
   "cell_type": "code",
   "execution_count": null,
   "id": "5d8ef5bc-d05c-4b93-9f0c-ecf23afa035f",
   "metadata": {
    "tags": []
   },
   "outputs": [],
   "source": [
    "BASE_URL = \"https://archive-api.open-meteo.com/v1/archive\"\n",
    "PREVIOUS_YEAR = datetime.now().year - 1\n",
    "\n",
    "LATITUDE = limit_value(value_by_key[\"latitude\"], -90, 90)\n",
    "LONGITUDE = limit_value(value_by_key[\"longitude\"], -180, 180)\n",
    "COST = limit_value(value_by_key[\"cost\"], 0, 1000) / 24\n",
    "\n",
    "PARAMETERS = {\n",
    "  \"latitude\": LATITUDE,\n",
    "  \"longitude\": LONGITUDE,\n",
    "  \"start_date\": f\"{PREVIOUS_YEAR}-01-01\",\n",
    "  \"end_date\": f\"{PREVIOUS_YEAR}-12-31\",\n",
    "  \"hourly\": \"temperature_2m\"  \n",
    "}\n",
    "\n",
    "parameters = \"&\".join([f\"{key}={value}\" for key, value in PARAMETERS.items()])\n",
    "URL = f\"{BASE_URL}?{parameters}\""
   ]
  },
  {
   "cell_type": "code",
   "execution_count": null,
   "id": "16aaf9c4-7bc7-4415-baea-e60378a9c961",
   "metadata": {
    "tags": []
   },
   "outputs": [],
   "source": [
    "response = requests.get(URL)\n",
    "\n",
    "# if response.status_code != 200:\n",
    "data = response.json()"
   ]
  },
  {
   "cell_type": "code",
   "execution_count": null,
   "id": "bbbff7b4-960c-4150-930a-23bb297611ed",
   "metadata": {
    "tags": []
   },
   "outputs": [],
   "source": [
    "import pandas as pd\n",
    "\n",
    "regions_summary = {}\n",
    "\n",
    "df = pd.DataFrame.from_dict(data['hourly'])\n",
    "df"
   ]
  },
  {
   "cell_type": "markdown",
   "id": "dd8d391c-ec2d-480b-a430-9f5cf4761314",
   "metadata": {
    "tags": []
   },
   "source": [
    "## Heating degree days (HDD) \n",
    "\n",
    "> Heating degree days (HDD) are a measure of how cold the temperature was on a given day or during a period of days. For example, a day with a mean temperature of 40°F has 25 HDD. Two such cold days in a row have a total of 50 HDD for the two-day period.\n",
    "\n",
    "\n",
    "## Cooling degree days (CDD)\n",
    "> Cooling degree days (CDD) are a measure of how hot the temperature was on a given day or during a period of days. A day with a mean temperature of 80°F has 15 CDD. If the next day has a mean temperature of 83°F, it has 18 CDD. The total CDD for the two days is 33 CDD.\n",
    "\n",
    "\n",
    "\n",
    "- https://www.eia.gov/energyexplained/units-and-calculators/degree-days.php\n",
    "- https://www.investopedia.com/terms/h/heatingdegreeday.asp\n",
    "- https://www.investopedia.com/terms/c/colddegreeday.asp"
   ]
  },
  {
   "cell_type": "code",
   "execution_count": null,
   "id": "b627faa2-bb20-44e8-bc50-212703a9c9db",
   "metadata": {
    "tags": []
   },
   "outputs": [],
   "source": [
    "df[\"time\"] =  pd.to_datetime(df[\"time\"])\n",
    "df[\"HDD\"] = 18.3333 - df[\"temperature_2m\"]\n",
    "df[\"CDD\"] = df[\"temperature_2m\"] - 18.3333\n",
    "\n",
    "df.HDD[df[\"HDD\"] < 0] = 0\n",
    "df.CDD[df[\"CDD\"] < 0] = 0\n",
    "\n",
    "\n",
    "df[\"HDD_COST\"] = df.HDD * COST\n",
    "df[\"CDD_COST\"] = df.CDD * COST\n",
    "\n",
    "df"
   ]
  },
  {
   "cell_type": "code",
   "execution_count": null,
   "id": "0c515f43-4284-4531-bbb3-2bcfd4d9f01f",
   "metadata": {
    "tags": []
   },
   "outputs": [],
   "source": [
    "# Group data by months\n",
    "months_summary = {}\n",
    "\n",
    "for month_number in range(1, 52):\n",
    "    month_data = df[df['time'].dt.isocalendar().week == month_number]\n",
    "    total_hours = len(month_data)\n",
    "    month_summary = {\n",
    "        \"total_hours\": total_hours,\n",
    "        \"temperature\": month_data[\"temperature_2m\"].sum() / total_hours,\n",
    "        \"HDD\": month_data[\"HDD\"].sum() / 24,\n",
    "        \"CDD\": month_data[\"CDD\"].sum() / 24,\n",
    "        \"HDD_COST\": month_data[\"HDD_COST\"].sum(),\n",
    "        \"CDD_COST\": month_data[\"CDD_COST\"].sum(),\n",
    "    }\n",
    "    months_summary[month_number] = month_summary\n",
    "    "
   ]
  },
  {
   "cell_type": "code",
   "execution_count": null,
   "id": "c39095ed-183b-4107-a7d6-a66209a2d49b",
   "metadata": {
    "tags": []
   },
   "outputs": [],
   "source": [
    "import matplotlib.pyplot as plt\n",
    "import numpy as np\n",
    "\n",
    "fig, ax = plt.subplots(figsize=(16, 8))\n",
    "\n",
    "temperature = [month['temperature'] for month in months_summary.values()]\n",
    "HDD = [month['HDD'] for month in months_summary.values()]\n",
    "CDD = [month['CDD'] for month in months_summary.values()]\n",
    "HDD_COST = [month['HDD_COST'] for month in months_summary.values()]\n",
    "CDD_COST = [month['CDD_COST'] for month in months_summary.values()]\n",
    "\n",
    "#ax.plot(months_summary.keys(), temperature, label = \"Temperature\")\n",
    "#ax.plot(months_summary.keys(), HDD, label = \"Heating degree days (HDD)\", linestyle=\"--\", color=\"red\", alpha=0.5, )\n",
    "ax.plot(months_summary.keys(), HDD_COST, label = \"HDD Cost\", linestyle=\"-\", color=\"red\", alpha=0.25, )\n",
    "\n",
    "#ax.plot(months_summary.keys(), CDD, label = \"Cooling degree days (CDD)\", linestyle=\"--\", color=\"blue\", alpha=0.5, )\n",
    "ax.plot(months_summary.keys(), CDD_COST, label = \"CDD Cost\", linestyle=\"-\", color=\"blue\", alpha=0.25, )\n",
    "\n",
    "# Fill area when income > expenses with green\n",
    "ax.fill_between(\n",
    "    list(months_summary.keys()), HDD_COST, CDD_COST, where=np.array(HDD_COST) > np.array(CDD_COST), \n",
    "    interpolate=False, color=\"red\", alpha=0.25, \n",
    ")\n",
    "\n",
    "# Fill area when income <= expenses with red\n",
    "ax.fill_between(\n",
    "    list(months_summary.keys()), HDD_COST, CDD_COST, where=np.array(HDD_COST) <= np.array(CDD_COST), \n",
    "    interpolate=False, color=\"blue\", alpha=0.25,\n",
    ")\n",
    "\n",
    "ax.legend()\n",
    "\n",
    "plt.ylabel(\"Cost\")\n",
    "plt.xlabel(\"Weeks\")\n",
    "\n",
    "plt.savefig(chart_output_path)\n",
    "plt.show()"
   ]
  },
  {
   "cell_type": "code",
   "execution_count": null,
   "id": "b86a90e7-752d-4a83-be6d-4c38433ec8c5",
   "metadata": {
    "tags": []
   },
   "outputs": [],
   "source": [
    "value_by_key = {\n",
    "  \"summary\": {\n",
    "        \"HDD\": sum([month['HDD'] for month in months_summary.values()]),\n",
    "        \"CDD\": sum([month['CDD'] for month in months_summary.values()]),\n",
    "        \"HDD_COST\": sum([month['HDD_COST'] for month in months_summary.values()]),\n",
    "        \"CDD_COST\": sum([month['CDD_COST'] for month in months_summary.values()]),\n",
    "  }\n",
    "}\n",
    "\n",
    "json.dump(value_by_key, open(output_path, 'wt'), indent=4)\n",
    "value_by_key"
   ]
  }
 ],
 "metadata": {
  "kernelspec": {
   "display_name": "Python 3 (ipykernel)",
   "language": "python",
   "name": "python3"
  },
  "language_info": {
   "codemirror_mode": {
    "name": "ipython",
    "version": 3
   },
   "file_extension": ".py",
   "mimetype": "text/x-python",
   "name": "python",
   "nbconvert_exporter": "python",
   "pygments_lexer": "ipython3",
   "version": "3.10.8"
  }
 },
 "nbformat": 4,
 "nbformat_minor": 5
}
